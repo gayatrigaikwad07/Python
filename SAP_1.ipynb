{
 "cells": [
  {
   "cell_type": "markdown",
   "id": "ec22d980",
   "metadata": {},
   "source": []
  },
  {
   "cell_type": "markdown",
   "id": "2eac9ab1",
   "metadata": {},
   "source": [
    "# Hello"
   ]
  },
  {
   "cell_type": "code",
   "execution_count": 2,
   "id": "32ab6300",
   "metadata": {},
   "outputs": [
    {
     "name": "stdout",
     "output_type": "stream",
     "text": [
      "Hellow, My name is Gayatri Gaikwad and I registred for Code Unnati Program 2.0\n"
     ]
    }
   ],
   "source": [
    "name = 'Gayatri Gaikwad'\n",
    "course = 'Code Unnati Program 2.0'\n",
    "print(f\"Hellow, My name is {name} and I registred for { course}\")"
   ]
  },
  {
   "cell_type": "code",
   "execution_count": 4,
   "id": "08cbd01a",
   "metadata": {},
   "outputs": [
    {
     "data": {
      "text/plain": [
       "'python programming  language'"
      ]
     },
     "execution_count": 4,
     "metadata": {},
     "output_type": "execute_result"
    }
   ],
   "source": [
    "String = \"{} {}{}\".format ('python', 'programming ',' language')\n",
    "String"
   ]
  },
  {
   "cell_type": "code",
   "execution_count": 6,
   "id": "87f29966",
   "metadata": {},
   "outputs": [
    {
     "data": {
      "text/plain": [
       "'E'"
      ]
     },
     "execution_count": 6,
     "metadata": {},
     "output_type": "execute_result"
    }
   ],
   "source": [
    "str1 = \"FACE\"\n",
    "str1[-1]"
   ]
  },
  {
   "cell_type": "code",
   "execution_count": 7,
   "id": "18d1e335",
   "metadata": {},
   "outputs": [
    {
     "data": {
      "text/plain": [
       "'AC'"
      ]
     },
     "execution_count": 7,
     "metadata": {},
     "output_type": "execute_result"
    }
   ],
   "source": [
    "str1 = \"FACE\"\n",
    "str1[1:3]"
   ]
  },
  {
   "cell_type": "code",
   "execution_count": 11,
   "id": "7cf70273",
   "metadata": {},
   "outputs": [
    {
     "data": {
      "text/plain": [
       "'FC'"
      ]
     },
     "execution_count": 11,
     "metadata": {},
     "output_type": "execute_result"
    }
   ],
   "source": [
    "str1 = \"FACE\"\n",
    "str1[0:3:2]"
   ]
  },
  {
   "cell_type": "code",
   "execution_count": 12,
   "id": "0c500397",
   "metadata": {},
   "outputs": [
    {
     "data": {
      "text/plain": [
       "'ECAF'"
      ]
     },
     "execution_count": 12,
     "metadata": {},
     "output_type": "execute_result"
    }
   ],
   "source": [
    "str1[::-1]"
   ]
  },
  {
   "cell_type": "code",
   "execution_count": 14,
   "id": "7d836d9f",
   "metadata": {},
   "outputs": [
    {
     "name": "stdout",
     "output_type": "stream",
     "text": [
      "['parul', 22, ' Bharat', 23, ' yash']\n",
      "<class 'list'>\n"
     ]
    }
   ],
   "source": [
    "list1 = [\"parul\", 22, \" Bharat\", 23 , \" yash\"]\n",
    "print(list1)\n",
    "print(type(list1))"
   ]
  },
  {
   "cell_type": "code",
   "execution_count": 15,
   "id": "b7caade4",
   "metadata": {},
   "outputs": [
    {
     "name": "stdout",
     "output_type": "stream",
     "text": [
      "parul\n"
     ]
    }
   ],
   "source": [
    "print(list1[0])"
   ]
  },
  {
   "cell_type": "code",
   "execution_count": 16,
   "id": "01ed7c32",
   "metadata": {},
   "outputs": [
    {
     "name": "stdout",
     "output_type": "stream",
     "text": [
      "23\n"
     ]
    }
   ],
   "source": [
    "print(list1[-2])"
   ]
  },
  {
   "cell_type": "code",
   "execution_count": 19,
   "id": "f5b0a63d",
   "metadata": {},
   "outputs": [
    {
     "name": "stdout",
     "output_type": "stream",
     "text": [
      "['a', ' b', 'd', 'w']\n"
     ]
    }
   ],
   "source": [
    "fruits = ['a', ' b', 'd']\n",
    "fruits.append('w')\n",
    "print(fruits)"
   ]
  },
  {
   "cell_type": "code",
   "execution_count": 22,
   "id": "abd96ff8",
   "metadata": {},
   "outputs": [
    {
     "name": "stdout",
     "output_type": "stream",
     "text": [
      "['a', ' b', 'd']\n"
     ]
    }
   ],
   "source": [
    "fruits.pop()\n",
    "print(fruits)"
   ]
  },
  {
   "cell_type": "code",
   "execution_count": 23,
   "id": "3498d93c",
   "metadata": {},
   "outputs": [
    {
     "name": "stdout",
     "output_type": "stream",
     "text": [
      "[' b', 'd']\n"
     ]
    }
   ],
   "source": [
    "fruits.remove(\"a\")\n",
    "print(fruits)"
   ]
  },
  {
   "cell_type": "code",
   "execution_count": 28,
   "id": "af812151",
   "metadata": {},
   "outputs": [
    {
     "name": "stdout",
     "output_type": "stream",
     "text": [
      "['a', ' b', 'd', 'm', 'n', 'q']\n"
     ]
    }
   ],
   "source": [
    "fruits = ['a', ' b', 'd']\n",
    "alphabet = ['m', 'n', 'q']\n",
    "fruits.extend(alphabet)\n",
    "print(fruits)"
   ]
  },
  {
   "cell_type": "code",
   "execution_count": 34,
   "id": "fd9fdb53",
   "metadata": {},
   "outputs": [
    {
     "name": "stdout",
     "output_type": "stream",
     "text": [
      "['a', 'w', ' b', 'd']\n"
     ]
    }
   ],
   "source": [
    "fruits = ['a', ' b', 'd']\n",
    "fruits.insert(1,\"w\")\n",
    "#insert orange at index 1\n",
    "print(fruits)"
   ]
  },
  {
   "cell_type": "code",
   "execution_count": 36,
   "id": "459afc35",
   "metadata": {},
   "outputs": [
    {
     "name": "stdout",
     "output_type": "stream",
     "text": [
      "['BMW', 'FORT', 'VOLVO']\n"
     ]
    }
   ],
   "source": [
    "cars = [\"FORT\", \"BMW\", \"VOLVO\"]\n",
    "cars.sort()\n",
    "print(cars)"
   ]
  },
  {
   "cell_type": "code",
   "execution_count": 2,
   "id": "52f2b521",
   "metadata": {},
   "outputs": [
    {
     "name": "stdout",
     "output_type": "stream",
     "text": [
      " Enter the word: I love myself\n"
     ]
    },
    {
     "ename": "AttributeError",
     "evalue": "'str' object has no attribute 'spilt'",
     "output_type": "error",
     "traceback": [
      "\u001b[1;31m---------------------------------------------------------------------------\u001b[0m",
      "\u001b[1;31mAttributeError\u001b[0m                            Traceback (most recent call last)",
      "Cell \u001b[1;32mIn[2], line 2\u001b[0m\n\u001b[0;32m      1\u001b[0m text\u001b[38;5;241m=\u001b[39m\u001b[38;5;28minput\u001b[39m(\u001b[38;5;124m\"\u001b[39m\u001b[38;5;124m Enter the word: \u001b[39m\u001b[38;5;124m\"\u001b[39m)\n\u001b[1;32m----> 2\u001b[0m text\u001b[38;5;241m.\u001b[39mspilt()\n",
      "\u001b[1;31mAttributeError\u001b[0m: 'str' object has no attribute 'spilt'"
     ]
    }
   ],
   "source": [
    "text=input(\" Enter the word: \")\n",
    "text.spilt()\n"
   ]
  },
  {
   "cell_type": "code",
   "execution_count": 7,
   "id": "9b2be127",
   "metadata": {},
   "outputs": [
    {
     "name": "stdout",
     "output_type": "stream",
     "text": [
      "('parul', 22, ' bharat', 45.5, 'Vadodara', 99)\n",
      "<class 'tuple'>\n",
      "(' bharat', 45.5)\n"
     ]
    },
    {
     "ename": "TypeError",
     "evalue": "'tuple' object doesn't support item deletion",
     "output_type": "error",
     "traceback": [
      "\u001b[1;31m---------------------------------------------------------------------------\u001b[0m",
      "\u001b[1;31mTypeError\u001b[0m                                 Traceback (most recent call last)",
      "Cell \u001b[1;32mIn[7], line 5\u001b[0m\n\u001b[0;32m      3\u001b[0m \u001b[38;5;28mprint\u001b[39m(\u001b[38;5;28mtype\u001b[39m(tup1))\n\u001b[0;32m      4\u001b[0m \u001b[38;5;28mprint\u001b[39m(tup1[\u001b[38;5;241m2\u001b[39m:\u001b[38;5;241m4\u001b[39m])\n\u001b[1;32m----> 5\u001b[0m \u001b[38;5;28;01mdel\u001b[39;00m tup1[\u001b[38;5;241m3\u001b[39m]\n",
      "\u001b[1;31mTypeError\u001b[0m: 'tuple' object doesn't support item deletion"
     ]
    }
   ],
   "source": [
    "tup1 = (\"parul\", 22, \" bharat\", 45.5, \"Vadodara\", 99)\n",
    "print(tup1)\n",
    "print(type(tup1))\n",
    "print(tup1[2:4])\n",
    "\n"
   ]
  },
  {
   "cell_type": "code",
   "execution_count": 6,
   "id": "9714c80a",
   "metadata": {},
   "outputs": [
    {
     "ename": "TypeError",
     "evalue": "'tuple' object doesn't support item deletion",
     "output_type": "error",
     "traceback": [
      "\u001b[1;31m---------------------------------------------------------------------------\u001b[0m",
      "\u001b[1;31mTypeError\u001b[0m                                 Traceback (most recent call last)",
      "Cell \u001b[1;32mIn[6], line 1\u001b[0m\n\u001b[1;32m----> 1\u001b[0m \u001b[38;5;28;01mdel\u001b[39;00m tup1[\u001b[38;5;241m3\u001b[39m]\n",
      "\u001b[1;31mTypeError\u001b[0m: 'tuple' object doesn't support item deletion"
     ]
    }
   ],
   "source": [
    "del tup1[3]"
   ]
  },
  {
   "cell_type": "code",
   "execution_count": 8,
   "id": "17b249b5",
   "metadata": {},
   "outputs": [
    {
     "name": "stdout",
     "output_type": "stream",
     "text": [
      "2\n"
     ]
    }
   ],
   "source": [
    "numbers = (1, 3, 7, 8, 5, 4, 6, 8, 5)\n",
    "x = numbers.count(5)\n",
    "print(x)"
   ]
  },
  {
   "cell_type": "code",
   "execution_count": 23,
   "id": "18b47414",
   "metadata": {},
   "outputs": [
    {
     "name": "stdout",
     "output_type": "stream",
     "text": [
      "<class 'dict'>\n",
      "dict_keys(['brand', 'Model', ' Year'])\n",
      "dict_values(['Mahindra', 'Thar', 2010])\n",
      "dict_items([('brand', 'Mahindra'), ('Model', 'Thar'), (' Year', 2010)])\n",
      "{'brand': 'Mahindra', 'Model': 'Thar', ' Year': 2010, 'color': 'black'}\n",
      "{'brand': 'Mahindra', ' Year': 2010, 'color': 'black'}\n"
     ]
    }
   ],
   "source": [
    "cars = { \"brand\" : \"Mahindra\", \"Model\" : \"Thar\", \" Year\": 2010 }\n",
    "print(type(cars))\n",
    "#print(cars[\"Model\"])\n",
    "print(cars.keys())\n",
    "print(cars.values())\n",
    "print(cars.items())\n",
    "cars[\"color\"] = \"black\"\n",
    "print(cars)\n",
    "cars.pop(\"Model\")\n",
    "print(cars)"
   ]
  },
  {
   "cell_type": "raw",
   "id": "9f7b176c",
   "metadata": {},
   "source": []
  },
  {
   "cell_type": "code",
   "execution_count": 27,
   "id": "7007fbe8",
   "metadata": {},
   "outputs": [
    {
     "name": "stdout",
     "output_type": "stream",
     "text": [
      "{'Physics', ' Hindi'}\n",
      "<class 'set'>\n"
     ]
    }
   ],
   "source": [
    "subjects  = {\"Physics\", \" Hindi\", \" Math\"}\n",
    "print(subjects)\n",
    "print(type(subjects))"
   ]
  },
  {
   "cell_type": "code",
   "execution_count": 29,
   "id": "329c89b0",
   "metadata": {},
   "outputs": [
    {
     "name": "stdout",
     "output_type": "stream",
     "text": [
      "{'Math', 'Chemistry'}\n",
      "<class 'set'>\n"
     ]
    }
   ],
   "source": [
    "subject2 = {\"Chemistry\", \"Math\"}\n",
    "print(subject2)\n",
    "print(type(subject2))"
   ]
  },
  {
   "cell_type": "code",
   "execution_count": 34,
   "id": "dcd89067",
   "metadata": {},
   "outputs": [
    {
     "data": {
      "text/plain": [
       "set()"
      ]
     },
     "execution_count": 34,
     "metadata": {},
     "output_type": "execute_result"
    }
   ],
   "source": [
    "subjects.intersection(subject2)"
   ]
  },
  {
   "cell_type": "markdown",
   "id": "6f567f13",
   "metadata": {},
   "source": [
    "subjects.union(subject2)"
   ]
  },
  {
   "cell_type": "code",
   "execution_count": 35,
   "id": "f4687849",
   "metadata": {},
   "outputs": [
    {
     "data": {
      "text/plain": [
       "{' Hindi', 'Chemistry', 'Math', 'Physics'}"
      ]
     },
     "execution_count": 35,
     "metadata": {},
     "output_type": "execute_result"
    }
   ],
   "source": [
    "subjects.union(subject2)"
   ]
  },
  {
   "cell_type": "code",
   "execution_count": null,
   "id": "e884df49",
   "metadata": {},
   "outputs": [],
   "source": [
    "# SAP Session - 2\n",
    "\n",
    "\n"
   ]
  }
 ],
 "metadata": {
  "kernelspec": {
   "display_name": "Python 3 (ipykernel)",
   "language": "python",
   "name": "python3"
  },
  "language_info": {
   "codemirror_mode": {
    "name": "ipython",
    "version": 3
   },
   "file_extension": ".py",
   "mimetype": "text/x-python",
   "name": "python",
   "nbconvert_exporter": "python",
   "pygments_lexer": "ipython3",
   "version": "3.11.4"
  }
 },
 "nbformat": 4,
 "nbformat_minor": 5
}
